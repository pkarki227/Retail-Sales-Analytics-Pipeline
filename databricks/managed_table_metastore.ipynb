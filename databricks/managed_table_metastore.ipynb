{
 "cells": [
  {
   "cell_type": "code",
   "execution_count": 0,
   "metadata": {
    "application/vnd.databricks.v1+cell": {
     "cellMetadata": {
      "byteLimit": 2048000,
      "implicitDf": true,
      "rowLimit": 10000
     },
     "inputWidgets": {},
     "nuid": "4ca18215-b3a0-4ebe-932c-65f6cc0af685",
     "showTitle": false,
     "tableResultSettingsMap": {},
     "title": ""
    }
   },
   "outputs": [],
   "source": [
    "# Read the CSV file from ADLS Gen2 (Processed container)\n",
    "df = spark.read.option(\"header\", True).option(\"inferSchema\", True).csv(\n",
    "    \"abfss://processed@retailanalyticslake.dfs.core.windows.net/retail_sales_cleaned.csv\"\n",
    ")\n",
    "\n",
    "# Register it as a managed table in the metastore (retail_analytics schema)\n",
    "df.write.mode(\"overwrite\").saveAsTable(\"retail_analytics.retail_sales_cleaned\")\n"
   ]
  }
 ],
 "metadata": {
  "application/vnd.databricks.v1+notebook": {
   "computePreferences": null,
   "dashboards": [],
   "environmentMetadata": {
    "base_environment": "",
    "environment_version": "2"
   },
   "inputWidgetPreferences": null,
   "language": "python",
   "notebookMetadata": {
    "mostRecentlyExecutedCommandWithImplicitDF": {
     "commandId": -1,
     "dataframes": [
      "_sqldf"
     ]
    },
    "pythonIndentUnit": 4
   },
   "notebookName": "managed_table_metastore",
   "widgets": {}
  },
  "language_info": {
   "name": "python"
  }
 },
 "nbformat": 4,
 "nbformat_minor": 0
}